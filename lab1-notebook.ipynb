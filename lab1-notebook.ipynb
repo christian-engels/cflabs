{
 "cells": [
  {
   "cell_type": "markdown",
   "id": "1c2b26b3",
   "metadata": {},
   "source": [
    "# Lab 1 for EC3318/MN3101 Corporate Finance\n",
    "\n",
    "**Contents**:\n",
    "\n",
    "1. Virtual Environments and Jupyter Notebooks\n",
    "2. Loading stock price data\n",
    "3. Computing stock returns\n",
    "4. Visualising stock prices and returns\n",
    "\n",
    "**Instructions**:\n",
    "\n",
    "1. Read the notebook\n",
    "2. Execute code cells as you encounter them\n",
    "3. Use GitHub Copilot to ask questions on concepts or Python syntax\n"
   ]
  },
  {
   "cell_type": "markdown",
   "id": "3096cc62",
   "metadata": {},
   "source": [
    "## 1. Virtual environments and Jupyter Notebooks\n",
    "\n",
    "**What are virtual environments?**\n",
    "\n",
    "Virtual environments are like separate workspaces for different projects.\n",
    "\n",
    "Just as you organize your coursework into folders for each class, virtual environments keep your Python packages organized and separate for different analysis projects.\n",
    "\n",
    "**Why this matters for working with Python**\n",
    "\n",
    "Installing packages for one project can break another project's code. Virtual environments ensure each project has exactly the packages it needs.\n",
    "\n",
    "Key benefits:\n",
    "\n",
    "- Your code produces consistent results every time\n",
    "- Projects work seamlessly across different computers (e.g., GitHub Codespaces or your own computer)\n",
    "- Your code won't break when you install new packages for other courses\n",
    "- You can reproduce your analysis months later with identical results\n",
    "\n",
    "**Your current setup**\n",
    "\n",
    "Your workspace uses a managed virtual environment called **\"cflabs\"** with all required packages pre-installed. Here's what you see in your files:\n",
    "\n",
    "- `.python-version` - Specifies your Python version\n",
    "- `pyproject.toml` - Lists project dependencies\n",
    "- `uv.lock` - Records exact package versions for reproducibility\n",
    "- `.ipynb` files in the `lab1/` folder - Your Jupyter Notebooks\n",
    "- `.venv` actual virtual environment files\n",
    "\n",
    "![EnvironmentFiles](.pics/pic1_virtual_env_files.png)\n",
    "\n",
    "This environment is managed with the Environment Manager called [uv](https://docs.astral.sh/uv/).\n",
    "\n",
    "**Working with Jupyter Notebooks**\n",
    "\n",
    "Jupyter Notebooks combine code, visualizations, and text in one document. Each `.ipynb` file lets you:\n",
    "\n",
    "- Execute code in small chunks (cells)\n",
    "- See results immediately\n",
    "- Add explanations and analysis\n",
    "- Create inline charts and graphs\n",
    "\n",
    "**Selecting the right Python Interpreter**\n",
    "\n",
    "**If you encounter import errors**, check your interpreter:\n",
    "\n",
    "1. **In Notebooks**: Look at the top-right corner of the Notebook for the \"Select Interpreter\" button or Python version\n",
    "2. **To change**: Click the button or version number → Select \"Python 3.x (cflabs)\n",
    "\n",
    "![EnvironmentPicker](.pics/pic2_virtual_env_picker.png)\n",
    "\n",
    "Quick fix in Visual Studio Code: Press `Ctrl+Shift+P` → Type \"Python: Select Interpreter\" → Choose the one with \"cflabs\"\n",
    "\n",
    "**Verification checklist**\n",
    "\n",
    "- Correct interpreter selected: Bottom-right shows \"cflabs\"\n",
    "- Notebook kernel: Top-right shows \"Python 3.x (cflabs)\"\n",
    "- Can import the essential packages (execute next cell)\n"
   ]
  },
  {
   "cell_type": "code",
   "execution_count": null,
   "id": "a4f15c0a",
   "metadata": {},
   "outputs": [],
   "source": [
    "# Import essential data manipulation package\n",
    "import pandas as pd\n",
    "import numpy as np"
   ]
  },
  {
   "cell_type": "markdown",
   "id": "4445dd94",
   "metadata": {},
   "source": [
    "**Ready to start**\n",
    "\n",
    "Your environment is pre-configured and ready to use. Focus on your analysis - the technical setup is handled for you!\n"
   ]
  },
  {
   "cell_type": "markdown",
   "id": "769eaf83",
   "metadata": {},
   "source": [
    "## 2. Loading stock price data\n",
    "\n",
    "Now we'll work with real stock price data from our Excel file.\n"
   ]
  },
  {
   "cell_type": "code",
   "execution_count": null,
   "id": "708c713f",
   "metadata": {},
   "outputs": [],
   "source": [
    "# Load stock price data from Excel file\n",
    "prices_raw = pd.read_excel(\n",
    "    io=\"downloading_stock_prices.xlsx\",  # our Excel file\n",
    "    sheet_name=\"Data download\",  # Sheet in Excel file\n",
    "    skiprows=7,  # Skip first 7 rows in sheet\n",
    ")\n",
    "\n",
    "prices_raw"
   ]
  },
  {
   "cell_type": "markdown",
   "id": "06d51b29",
   "metadata": {},
   "source": [
    "**Why Excel data matters in finance**\n",
    "\n",
    "Excel remains ubiquitous in financial practice. Investment banks, asset managers, and corporate finance teams routinely receive data in Excel format from Bloomberg, Refinitiv, and other financial data providers.\n",
    "\n",
    "Learning to programmatically import Excel data is essential because:\n",
    "\n",
    "- Manual copy-pasting introduces errors and is not reproducible\n",
    "- Financial models require regular updates with new data\n",
    "- Regulatory compliance often demands audit trails of data sources\n",
    "- Large datasets exceed Excel's row limitations (1,048,576 rows)\n"
   ]
  },
  {
   "cell_type": "code",
   "execution_count": null,
   "id": "fc27dba8",
   "metadata": {},
   "outputs": [],
   "source": [
    "# Import datetime library for working with dates\n",
    "from datetime import datetime, timedelta\n",
    "\n",
    "# Convert Excel numeric date to a normal date\n",
    "prices_raw[\"date\"] = pd.to_datetime(\n",
    "    prices_raw[\"date\"],  # date column\n",
    "    unit=\"D\",  # in days\n",
    "    origin=\"1899-12-30\",  # the date that a number of zero represents\n",
    ")\n",
    "\n",
    "prices_raw"
   ]
  },
  {
   "cell_type": "code",
   "execution_count": null,
   "id": "2efa1af0",
   "metadata": {},
   "outputs": [],
   "source": [
    "# Shape of data\n",
    "prices_raw.shape"
   ]
  },
  {
   "cell_type": "code",
   "execution_count": null,
   "id": "87c8071e",
   "metadata": {},
   "outputs": [],
   "source": [
    "# Columns\n",
    "prices_raw.columns.tolist()"
   ]
  },
  {
   "cell_type": "code",
   "execution_count": null,
   "id": "87c8071e",
   "metadata": {},
   "outputs": [],
   "source": [
    "# Data types\n",
    "prices_raw.dtypes"
   ]
  },
  {
   "cell_type": "code",
   "execution_count": null,
   "id": "70f222eb",
   "metadata": {},
   "outputs": [],
   "source": [
    "# Date range\n",
    "[\n",
    "    prices_raw[\"date\"].min(),  # earliest date in data\n",
    "    prices_raw[\"date\"].max(),  # latest date\n",
    "]"
   ]
  },
  {
   "cell_type": "code",
   "execution_count": null,
   "id": "1056777c",
   "metadata": {},
   "outputs": [],
   "source": [
    "# Check for missing values\n",
    "prices_raw.isnull().sum()"
   ]
  },
  {
   "cell_type": "markdown",
   "id": "70f17f0a",
   "metadata": {},
   "source": [
    "**Data quality checks: Foundation of financial analysis**\n",
    "\n",
    "Before analyzing any financial data, rigorous quality checks are mandatory. Missing values, incorrect dates, and outliers can lead to:\n",
    "\n",
    "- **Incorrect valuations** in DCF models\n",
    "- **Flawed risk assessments** for portfolio management\n",
    "- **Regulatory violations** in financial reporting\n",
    "- **Trading losses** from bad signals\n",
    "\n",
    "Professional practice requires documenting these checks for audit purposes and regulatory compliance (e.g., Basel III, Solvency II, IFRS 9).\n"
   ]
  },
  {
   "cell_type": "code",
   "execution_count": null,
   "id": "8db43283",
   "metadata": {},
   "outputs": [],
   "source": [
    "# Transform from wide format to tidy (long) format\n",
    "\n",
    "# Melt the dataframe to convert from wide to long format\n",
    "prices_tidy = pd.melt(\n",
    "    prices_raw,  # our data\n",
    "    id_vars=[\"date\"],  # column that identifies rows in wide data\n",
    "    var_name=\"symbol\",  # new column for current variable names\n",
    "    value_name=\"adj_close\",  # new column for respective table values\n",
    ")\n",
    "prices_tidy"
   ]
  },
  {
   "cell_type": "code",
   "execution_count": null,
   "id": "1ae87c28",
   "metadata": {},
   "outputs": [],
   "source": [
    "# Sort by symbol and date for better organization\n",
    "prices_tidy = (\n",
    "    prices_tidy.get([\"symbol\", \"date\", \"adj_close\"])  # arrange columns differently\n",
    "    .sort_values([\"symbol\", \"date\"])  # sort rows by symbol and date\n",
    "    .reset_index(drop=True)  # maintain clean row identifiers\n",
    ")\n",
    "\n",
    "prices_tidy"
   ]
  },
  {
   "cell_type": "markdown",
   "id": "3ff46d47",
   "metadata": {},
   "source": [
    "**Tidy data: The foundation for scalable financial analysis**\n",
    "\n",
    "Converting from \"wide\" to \"long\" format may seem technical, but it's crucial for financial modeling:\n",
    "\n",
    "- **Portfolio analysis**: Compare hundreds of securities simultaneously\n",
    "- **Risk management**: Calculate correlations across multiple assets\n",
    "- **Performance attribution**: Analyze returns by sector, geography, or style\n",
    "- **Regulatory reporting**: Format data for XBRL and other regulatory standards\n",
    "\n",
    "This structure enables vectorized operations essential for high-frequency analysis and real-time risk monitoring.\n"
   ]
  },
  {
   "cell_type": "markdown",
   "id": "d5c8c827",
   "metadata": {},
   "source": [
    "## 3. Computing stock returns\n"
   ]
  },
  {
   "cell_type": "markdown",
   "id": "b0f7edc9",
   "metadata": {},
   "source": [
    "**Stock returns: The building block of modern finance**\n",
    "\n",
    "Returns, not prices, are the fundamental unit of analysis in finance because they are:\n",
    "\n",
    "- **Scale-free**: A £1 and £100 stock with identical 10% returns have equivalent risk-return profiles\n",
    "- **Stationary**: Returns exhibit more stable statistical properties than prices\n",
    "- **Additive**: Multi-period returns can be calculated by compounding single-period returns\n",
    "- **Comparable**: Essential for portfolio optimization, CAPM, and Fama-French models\n",
    "\n",
    "The percentage change calculation (`pct_change()`) computes simple returns: $(P_t - P_{t-1})/P_{t-1}$\n"
   ]
  },
  {
   "cell_type": "code",
   "execution_count": null,
   "id": "4cb9e864",
   "metadata": {},
   "outputs": [],
   "source": [
    "# Calculate returns for each stock\n",
    "\n",
    "returns = (\n",
    "    prices_tidy.sort_values([\"symbol\", \"date\"])  # verify sorted rows\n",
    "    .assign(\n",
    "        ret=prices_tidy.groupby(\"symbol\")[\"adj_close\"].pct_change()\n",
    "    )  # calculate returns\n",
    "    .reset_index(drop=True)  # clean row identifiers\n",
    ")\n",
    "\n",
    "# look at first five rows per stock\n",
    "returns.groupby(\"symbol\").head()"
   ]
  },
  {
   "cell_type": "code",
   "execution_count": null,
   "id": "dc8249ea",
   "metadata": {},
   "outputs": [],
   "source": [
    "# Drop first row for each stock with missing returns\n",
    "returns = returns.dropna()\n",
    "\n",
    "# look at first five rows per stock\n",
    "returns.groupby(\"symbol\").head()"
   ]
  },
  {
   "cell_type": "markdown",
   "id": "930c4cee",
   "metadata": {},
   "source": [
    "**Handling missing returns: A practical necessity**\n",
    "\n",
    "The first observation for each stock has no return (can't calculate change from previous period). In practice:\n",
    "\n",
    "- **IPO data**: New listings have no prior trading history\n",
    "- **Corporate actions**: Stock splits and dividends create data discontinuities\n",
    "- **Delisting events**: Companies leaving exchanges create missing data\n",
    "- **Data vendor issues**: Bloomberg and Reuters occasionally have gaps\n",
    "\n",
    "Dropping these observations is standard practice, but analysts must document this choice for audit trails.\n"
   ]
  },
  {
   "cell_type": "markdown",
   "id": "d775c6f6",
   "metadata": {},
   "source": [
    "## 4. Visualising stock prices and returns\n"
   ]
  },
  {
   "cell_type": "markdown",
   "id": "a46b02b3",
   "metadata": {},
   "source": [
    "**Visualization in financial analysis: Beyond pretty charts**\n",
    "\n",
    "Effective visualization is critical for:\n",
    "\n",
    "- **Risk communication** to boards and regulators\n",
    "- **Pattern recognition** in market anomalies and trading strategies\n",
    "- **Performance reporting** to institutional investors\n",
    "- **Stress testing** under different market scenarios\n",
    "\n",
    "The plots we'll create mirror those used in professional investment management: price charts for performance tracking and return histograms for risk assessment.\n"
   ]
  },
  {
   "cell_type": "code",
   "execution_count": null,
   "id": "26abb6fa",
   "metadata": {},
   "outputs": [],
   "source": [
    "# Focus on Amazon stock\n",
    "amazon_data = returns.query(\"symbol == 'AMZN'\")  # filter for AMZN symbol\n",
    "amazon_data"
   ]
  },
  {
   "cell_type": "code",
   "execution_count": null,
   "id": "26abb6fa",
   "metadata": {},
   "outputs": [],
   "source": [
    "# Summary statistics\n",
    "pd.DataFrame(amazon_data[\"ret\"].describe()).round(3).T"
   ]
  },
  {
   "cell_type": "code",
   "execution_count": null,
   "id": "3f16fd30",
   "metadata": {},
   "outputs": [],
   "source": [
    "# Yearly summary statistics\n",
    "(amazon_data[\"ret\"].groupby(amazon_data[\"date\"].dt.year).describe().round(3))"
   ]
  },
  {
   "cell_type": "markdown",
   "id": "9a9156eb",
   "metadata": {},
   "source": [
    "**Summary statistics: The language of risk and return**\n",
    "\n",
    "These statistics form the foundation of modern portfolio theory:\n",
    "\n",
    "- **Mean**: Expected return (μ) - central to CAPM and asset pricing\n",
    "- **Standard deviation**: Volatility (σ) - the classic risk measure\n",
    "- **Min/Max**: Extreme values indicating tail risk\n",
    "- **Count**: Sample size affecting statistical significance\n",
    "\n",
    "Notice how these vary by year - this time-varying risk is why financial models use rolling windows and GARCH specifications.\n"
   ]
  },
  {
   "cell_type": "code",
   "execution_count": null,
   "id": "3f16fd30",
   "metadata": {},
   "outputs": [],
   "source": [
    "# Import plotnine for producing graphs\n",
    "# See https://plotnine.org\n",
    "from plotnine import *"
   ]
  },
  {
   "cell_type": "code",
   "execution_count": null,
   "id": "58d8327d",
   "metadata": {},
   "outputs": [],
   "source": [
    "# Plot Amazon stock price\n",
    "amazon_prices_figure = (\n",
    "    ggplot(amazon_data, aes(x=\"date\", y=\"adj_close\"))\n",
    "    + geom_line()\n",
    "    + labs(x=\"\", y=\"Adjusted close ($)\", title=\"Amazon (AMZN) stock price\")\n",
    "    + theme(axis_text_x=element_text(rotation=45, hjust=1))\n",
    ")\n",
    "amazon_prices_figure"
   ]
  },
  {
   "cell_type": "code",
   "execution_count": null,
   "id": "1848515d",
   "metadata": {},
   "outputs": [],
   "source": [
    "# package for percentage scales\n",
    "from mizani.formatters import percent_format\n",
    "\n",
    "# 95% value-at-risk (VaR)\n",
    "quantile_05 = amazon_data[\"ret\"].quantile(0.05)\n",
    "\n",
    "# plot Amazon stock returns histogram with 95% VaR\n",
    "amazon_returns_figure = (\n",
    "    ggplot(amazon_data, aes(x=\"ret\"))\n",
    "    + geom_histogram(bins=100)\n",
    "    + geom_vline(aes(xintercept=quantile_05), linetype=\"dashed\")\n",
    "    + labs(x=\"\", y=\"\", title=\"Distribution of monthly Amazon stock returns\")\n",
    "    + scale_x_continuous(labels=percent_format())\n",
    ")\n",
    "amazon_returns_figure"
   ]
  },
  {
   "cell_type": "markdown",
   "id": "bb21df76",
   "metadata": {},
   "source": [
    "**Value-at-Risk (VaR): Quantifying downside risk**\n",
    "\n",
    "The vertical dashed line shows the 5% VaR - there's a 5% probability of losing more than this amount in any given month.\n",
    "\n",
    "VaR is ubiquitous in finance:\n",
    "\n",
    "- **Regulatory capital**: Basel III requires banks to hold capital based on VaR\n",
    "- **Risk limits**: Trading desks face daily VaR constraints\n",
    "- **Portfolio management**: Asset allocations often target specific VaR levels\n",
    "- **Stress testing**: Central banks use VaR in systemic risk assessment\n",
    "\n",
    "Note: VaR has limitations (doesn't capture tail risk beyond the threshold) leading to complementary measures like Expected Shortfall.\n"
   ]
  },
  {
   "cell_type": "code",
   "execution_count": null,
   "id": "1848515d",
   "metadata": {},
   "outputs": [],
   "source": [
    "# Summary statistics for each stock through groupby-aggregation\n",
    "summary_stats = (\n",
    "    returns.groupby(\"symbol\")[\"ret\"]\n",
    "    .agg([\"count\", \"mean\", \"std\", \"min\", \"max\"])\n",
    "    .round(3)\n",
    ")\n",
    "summary_stats"
   ]
  },
  {
   "cell_type": "code",
   "execution_count": null,
   "id": "b088ee76",
   "metadata": {},
   "outputs": [],
   "source": [
    "# Annualized statistics\n",
    "annualized_stats = (\n",
    "    returns.groupby(\"symbol\")[\"ret\"]  # group by symbol and focus on returns\n",
    "    .agg([\"mean\", \"std\"])  # get means and standard deviations\n",
    "    .assign(\n",
    "        ann_mean=lambda x: x[\"mean\"] * 12,  # annualise mean return\n",
    "        ann_vol=lambda x: x[\"std\"] * np.sqrt(12),  # annualise volatility\n",
    "    )\n",
    "    .get([\"ann_mean\", \"ann_vol\"])\n",
    "    .round(3)\n",
    ")\n",
    "annualized_stats"
   ]
  },
  {
   "cell_type": "markdown",
   "id": "681a29dc",
   "metadata": {},
   "source": [
    "**Annualization: Making returns comparable**\n",
    "\n",
    "Monthly returns must be annualized for meaningful comparison:\n",
    "\n",
    "- **Return scaling**: Multiply by 12 (assumes no compounding within year)\n",
    "- **Volatility scaling**: Multiply by √12 (accounts for volatility's square-root-of-time scaling)\n",
    "\n",
    "This follows from financial theory:\n",
    "\n",
    "- Returns scale linearly with time\n",
    "- Variance scales linearly with time\n",
    "- Standard deviation (volatility) scales with √time\n",
    "\n",
    "These annualized figures enable comparison with market benchmarks, peer companies, and required returns from CAPM.\n"
   ]
  },
  {
   "cell_type": "code",
   "execution_count": null,
   "id": "eac953de",
   "metadata": {},
   "outputs": [],
   "source": [
    "# more formatting functions for plotnine\n",
    "from mizani.breaks import date_breaks\n",
    "from mizani.formatters import date_format\n",
    "\n",
    "# plot all three stock prices at once\n",
    "prices_figure = (\n",
    "    ggplot(returns, aes(y=\"adj_close\", x=\"date\", color=\"symbol\"))\n",
    "    + geom_line()\n",
    "    + scale_x_datetime(breaks=date_breaks(width=\"1 year\"), labels=date_format(\"%Y\"))\n",
    "    + labs(x=\"\", y=\"\", color=\"\", title=\"Stock prices of AMZN, WMT, KO\")\n",
    "    + theme(legend_position=\"right\")\n",
    ")\n",
    "prices_figure.show()"
   ]
  },
  {
   "cell_type": "code",
   "execution_count": null,
   "id": "7e500843",
   "metadata": {},
   "outputs": [],
   "source": [
    "# Plot returns series for all three stocks\n",
    "returns_figure = (\n",
    "    ggplot(returns, aes(y=\"ret\", x=\"date\", color=\"symbol\"))\n",
    "    + geom_line()\n",
    "    + scale_x_datetime(breaks=date_breaks(width=\"1 year\"), labels=date_format(\"%Y\"))\n",
    "    + labs(x=\"\", y=\"\", color=\"\", title=\"Monthly returns of AMZN, WMT, KO\")\n",
    "    + theme(legend_position=\"right\")\n",
    ")\n",
    "returns_figure.show()"
   ]
  },
  {
   "cell_type": "markdown",
   "id": "dd5e2749",
   "metadata": {},
   "source": [
    "**Cross-sectional analysis: The foundation of portfolio theory**\n",
    "\n",
    "Comparing multiple securities simultaneously reveals:\n",
    "\n",
    "- **Correlation patterns**: Essential for diversification benefits\n",
    "- **Relative performance**: Identifying alpha generation opportunities\n",
    "- **Sector dynamics**: Understanding systematic vs. idiosyncratic risk\n",
    "- **Mean reversion**: Potential arbitrage opportunities\n",
    "\n",
    "This multi-asset visualization is how portfolio managers monitor:\n",
    "\n",
    "- Factor exposures (growth vs. value, large vs. small cap)\n",
    "- Geographic allocation effects\n",
    "- Currency hedging decisions\n",
    "- Rebalancing triggers\n",
    "\n",
    "The varying correlations visible in these charts drive the benefits of diversification central to modern portfolio theory.\n"
   ]
  }
 ],
 "metadata": {
  "kernelspec": {
   "display_name": "cflabs (3.10.11)",
   "language": "python",
   "name": "python3"
  },
  "language_info": {
   "codemirror_mode": {
    "name": "ipython",
    "version": 3
   },
   "file_extension": ".py",
   "mimetype": "text/x-python",
   "name": "python",
   "nbconvert_exporter": "python",
   "pygments_lexer": "ipython3",
   "version": "3.10.11"
  }
 },
 "nbformat": 4,
 "nbformat_minor": 5
}
